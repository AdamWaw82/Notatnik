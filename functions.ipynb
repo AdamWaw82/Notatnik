{
 "cells": [
  {
   "cell_type": "markdown",
   "id": "9983345c-d90f-440c-a198-9591ef1fba1e",
   "metadata": {},
   "source": [
    "# Tworzenie funkcji\n",
    "Aby utworzyć funkcje stosujemy słowo def\n"
   ]
  },
  {
   "cell_type": "code",
   "execution_count": null,
   "id": "1c23d982-5cf0-4a82-bada-599866a6f31e",
   "metadata": {},
   "outputs": [],
   "source": [
    "def dodawanie(a, b):\n",
    "    return a + b"
   ]
  },
  {
   "cell_type": "markdown",
   "id": "74d28864-bdea-4ec8-b2aa-a27a21f8cd56",
   "metadata": {},
   "source": [
    "# Wywołanie funkcji\n",
    "Funkcję dodawania wywołujemy za pomocą wpisania nazwy funkcji oraz podania dwóch składników dodawania w nawiasie okrągłym"
   ]
  },
  {
   "cell_type": "code",
   "execution_count": 2,
   "id": "7541657b-0e1f-4123-b5cc-a8b279106b58",
   "metadata": {},
   "outputs": [
    {
     "data": {
      "text/plain": [
       "2"
      ]
     },
     "execution_count": 2,
     "metadata": {},
     "output_type": "execute_result"
    }
   ],
   "source": [
    "def dodawanie(a, b):\n",
    "    return a + b\n",
    "\n",
    "dodawanie(1, 1)"
   ]
  },
  {
   "cell_type": "code",
   "execution_count": null,
   "id": "30450e5a-c835-49eb-b15d-f2d34c3f9b62",
   "metadata": {},
   "outputs": [],
   "source": []
  }
 ],
 "metadata": {
  "kernelspec": {
   "display_name": "Python 3 (ipykernel)",
   "language": "python",
   "name": "python3"
  },
  "language_info": {
   "codemirror_mode": {
    "name": "ipython",
    "version": 3
   },
   "file_extension": ".py",
   "mimetype": "text/x-python",
   "name": "python",
   "nbconvert_exporter": "python",
   "pygments_lexer": "ipython3",
   "version": "3.12.6"
  }
 },
 "nbformat": 4,
 "nbformat_minor": 5
}
